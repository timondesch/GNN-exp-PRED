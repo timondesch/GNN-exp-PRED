{
 "cells": [
  {
   "cell_type": "code",
   "execution_count": 215,
   "id": "354f5f75",
   "metadata": {},
   "outputs": [],
   "source": [
    "import torch\n",
    "\n",
    "import networkx as nx\n",
    "import numpy as np\n",
    "import matplotlib.pyplot as plt\n",
    "\n",
    "import torch.nn.functional as F\n",
    "from torch.utils.data import random_split\n",
    "from torch.nn import CrossEntropyLoss\n",
    "\n",
    "from torch_geometric.utils import to_networkx\n",
    "from torch_geometric.datasets import TUDataset, BAShapes\n",
    "from torch_geometric.loader import DataLoader\n",
    "from torch_geometric.nn.conv import GCNConv\n",
    "from torch_geometric.nn.pool import global_mean_pool, global_max_pool\n",
    "from torch_geometric.explain import Explainer, GNNExplainer\n",
    "from torch_geometric.explain.config import ExplainerConfig, ThresholdConfig"
   ]
  },
  {
   "cell_type": "code",
   "execution_count": 216,
   "id": "d2df2003",
   "metadata": {},
   "outputs": [],
   "source": [
    "dataset = TUDataset(root='data/', name='MUTAG', use_node_attr=True)\n",
    "data_train, data_test = random_split(dataset, [0.8, 0.2])\n",
    "\n",
    "loader_train = DataLoader(data_train, batch_size=8, shuffle=True)\n",
    "loader_test = DataLoader(data_test, batch_size=8, shuffle=True)"
   ]
  },
  {
   "cell_type": "code",
   "execution_count": 217,
   "id": "a8feee5a",
   "metadata": {},
   "outputs": [],
   "source": [
    "class GCN(torch.nn.Module):\n",
    "    def __init__(self, nhidden):\n",
    "        super().__init__()\n",
    "        self.nhidden = nhidden\n",
    "        self.conv1 = GCNConv(7, 16)\n",
    "        self.conv2 = GCNConv(16, 2)\n",
    "    def forward(self, x, edge_index, batch):\n",
    "        x = F.relu(self.conv1(x, edge_index))\n",
    "        x = F.dropout(x, training=self.training)\n",
    "        x = F.relu(self.conv2(x, edge_index))\n",
    "        x = F.dropout(x, training=self.training)\n",
    "        x = global_max_pool(x, batch=batch)\n",
    "\n",
    "        return F.log_softmax(x, dim=1)"
   ]
  },
  {
   "cell_type": "code",
   "execution_count": 218,
   "id": "35e430b4",
   "metadata": {},
   "outputs": [],
   "source": [
    "device = torch.device('cuda' if torch.cuda.is_available() else 'cpu')\n",
    "\n",
    "model = GCN(2)\n",
    "model.to(device)\n",
    "\n",
    "optimizer = torch.optim.Adam(model.parameters(), lr=0.01, weight_decay=5e-4)"
   ]
  },
  {
   "cell_type": "code",
   "execution_count": 219,
   "id": "2c2f0e7b",
   "metadata": {},
   "outputs": [],
   "source": [
    "cross_entropy_loss = CrossEntropyLoss()\n",
    "\n",
    "def train_epoch():\n",
    "    train_losses = []\n",
    "    for train_batch in loader_train:\n",
    "        model.train()\n",
    "        optimizer.zero_grad()\n",
    "        out = model(train_batch.x, train_batch.edge_index, train_batch.batch)\n",
    "        loss = cross_entropy_loss(out, train_batch.y)\n",
    "        loss.backward()\n",
    "        optimizer.step()\n",
    "        train_losses.append(loss.item())\n",
    "    return np.mean(train_losses)"
   ]
  },
  {
   "cell_type": "code",
   "execution_count": 220,
   "id": "0a6b63fa",
   "metadata": {},
   "outputs": [],
   "source": [
    "def bin_accuracy(pred, ground, thresh):\n",
    "    k = 0\n",
    "    assert(len(pred) == len(ground))\n",
    "    for i in range(len(pred)):\n",
    "        k+= int(int(pred[i][0] > thresh) == ground[i])\n",
    "    return k/len(pred)"
   ]
  },
  {
   "cell_type": "code",
   "execution_count": 221,
   "id": "bbe04f49",
   "metadata": {},
   "outputs": [
    {
     "name": "stdout",
     "output_type": "stream",
     "text": [
      "Epoch 0 : Train 0.62, Test 0.62, Accuracy 0.34\n",
      "Epoch 5 : Train 0.58, Test 0.59, Accuracy 0.36\n",
      "Epoch 10 : Train 0.55, Test 0.59, Accuracy 0.36\n",
      "Epoch 15 : Train 0.58, Test 0.59, Accuracy 0.34\n",
      "Epoch 20 : Train 0.56, Test 0.55, Accuracy 0.32\n",
      "Epoch 25 : Train 0.54, Test 0.61, Accuracy 0.34\n",
      "Epoch 30 : Train 0.55, Test 0.6, Accuracy 0.37\n",
      "Epoch 35 : Train 0.57, Test 0.61, Accuracy 0.36\n",
      "Epoch 40 : Train 0.54, Test 0.56, Accuracy 0.32\n",
      "Epoch 45 : Train 0.56, Test 0.62, Accuracy 0.38\n",
      "Epoch 50 : Train 0.53, Test 0.6, Accuracy 0.34\n",
      "Epoch 55 : Train 0.56, Test 0.59, Accuracy 0.34\n",
      "Epoch 60 : Train 0.54, Test 0.59, Accuracy 0.34\n",
      "Epoch 65 : Train 0.57, Test 0.63, Accuracy 0.36\n",
      "Epoch 70 : Train 0.56, Test 0.66, Accuracy 0.34\n",
      "Epoch 75 : Train 0.56, Test 0.65, Accuracy 0.37\n",
      "Epoch 80 : Train 0.55, Test 0.59, Accuracy 0.34\n",
      "Epoch 85 : Train 0.57, Test 0.63, Accuracy 0.34\n",
      "Epoch 90 : Train 0.56, Test 0.62, Accuracy 0.36\n",
      "Epoch 95 : Train 0.55, Test 0.57, Accuracy 0.34\n",
      "Epoch 100 : Train 0.55, Test 0.66, Accuracy 0.34\n"
     ]
    }
   ],
   "source": [
    "for epoch in range(0,101):\n",
    "    train_loss = train_epoch()\n",
    "    if(epoch % 5 == 0):\n",
    "        test_losses = []\n",
    "        test_accuracy = []\n",
    "        for test_batch in loader_test:\n",
    "            out = model(test_batch.x, test_batch.edge_index, test_batch.batch)\n",
    "            test_losses.append(cross_entropy_loss(out, test_batch.y).item())\n",
    "            test_accuracy.append(bin_accuracy(out, test_batch.y, 0.5))\n",
    "\n",
    "        print(f\"Epoch {epoch} : Train {train_loss.round(2)}, Test {np.mean(test_losses).round(2)}, Accuracy {np.mean(test_accuracy).round(2)}\")"
   ]
  },
  {
   "cell_type": "code",
   "execution_count": 226,
   "id": "547b436e",
   "metadata": {},
   "outputs": [],
   "source": [
    "explainer = Explainer(\n",
    "    model=model,\n",
    "    algorithm=GNNExplainer(epochs=200),\n",
    "    explainer_config=ExplainerConfig(\n",
    "        explanation_type='model',\n",
    "        node_mask_type='object',\n",
    "        edge_mask_type='object'\n",
    "    ),\n",
    "    model_config=dict(\n",
    "        mode='classification',\n",
    "        task_level='graph',\n",
    "        return_type='probs'\n",
    "        ),\n",
    "     threshold_config=ThresholdConfig('hard', 0.1)\n",
    "    )"
   ]
  },
  {
   "cell_type": "code",
   "execution_count": 227,
   "id": "58bd244a",
   "metadata": {},
   "outputs": [],
   "source": [
    "sample = data_test[9]\n",
    "\n",
    "\n",
    "args = {'batch' : torch.Tensor([int(0) for i in range(len(sample.x))],).long()}\n",
    "\n",
    "e = explainer(sample.x, sample.edge_index, **args)"
   ]
  },
  {
   "cell_type": "code",
   "execution_count": 241,
   "id": "0e8b483e",
   "metadata": {},
   "outputs": [
    {
     "data": {
      "image/png": "[encoded data removed]",
      "text/plain": [
       "<Figure size 640x480 with 1 Axes>"
      ]
     },
     "metadata": {},
     "output_type": "display_data"
    }
   ],
   "source": [
    "nx.draw(to_networkx(e.get_explanation_subgraph()), node_size=20, with_labels=True)\n"
   ]
  },
  {
   "cell_type": "code",
   "execution_count": 237,
   "id": "98b3faef",
   "metadata": {},
   "outputs": [
    {
     "name": "stdout",
     "output_type": "stream",
     "text": [
      "tensor([1., 1., 1., 1., 1., 1., 1., 1., 1., 1., 1., 1., 1., 1., 1., 1., 1.])\n",
      "tensor([0., 0., 1., 1., 1., 0., 0., 0., 0., 0., 0., 0., 0., 0., 0., 0., 0., 0.,\n",
      "        1., 1., 0., 0., 0., 1., 1., 0., 1., 0., 0., 0., 0., 0., 0., 0., 0., 0.,\n",
      "        0., 1.])\n",
      "1 -> 0\n",
      "1 -> 2\n",
      "2 -> 1\n",
      "7 -> 6\n",
      "8 -> 6\n",
      "10 -> 11\n",
      "10 -> 15\n",
      "11 -> 10\n",
      "16 -> 14\n"
     ]
    }
   ],
   "source": [
    "print(e.node_mask)\n",
    "print(e.edge_mask)\n",
    "for i, m in enumerate(e.edge_mask):\n",
    "    if m == 1.0:\n",
    "        print(f\"{sample.edge_index[0][i]} -> {sample.edge_index[1][i]}\")"
   ]
  },
  {
   "cell_type": "code",
   "execution_count": null,
   "id": "31bc3956",
   "metadata": {},
   "outputs": [],
   "source": []
  }
 ],
 "metadata": {
  "kernelspec": {
   "display_name": "Python 3",
   "language": "python",
   "name": "python3"
  },
  "language_info": {
   "codemirror_mode": {
    "name": "ipython",
    "version": 3
   },
   "file_extension": ".py",
   "mimetype": "text/x-python",
   "name": "python",
   "nbconvert_exporter": "python",
   "pygments_lexer": "ipython3",
   "version": "3.10.9"
  },
  "vscode": {
   "interpreter": {
    "hash": "e7370f93d1d0cde622a1f8e1c04877d8463912d04d973331ad4851f04de6915a"
   }
  }
 },
 "nbformat": 4,
 "nbformat_minor": 5
}
